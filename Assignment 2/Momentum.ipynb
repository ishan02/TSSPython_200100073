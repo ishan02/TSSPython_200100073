{
 "cells": [
  {
   "cell_type": "markdown",
   "metadata": {
    "id": "U1k32GLIm1o5"
   },
   "source": [
    "## Momentum \n",
    "\n",
    "Momentum-based Trading is based on the assumption that Stocks which have performed will in the past, will perform better in the coming future.\n",
    " \n",
    "To define 'past', we take a variable **N**, and say that : \n",
    "\n",
    "<centre> Momentum(For A particular stock) = Close Price(Today) - Close Price(N-day ago) </centre>\n",
    "\n",
    "This gives us our first hyper-parameter (parameters of the model which could be changed in order to improve the model) : **N**\n",
    "\n",
    "We would also be reshuffling our [Portfolio](https://www.investopedia.com/terms/p/portfolio.asp) at certain intervals of time, which gives us our second hyper-parameter: **T** (The time after which we'll be reshuffling our Portfolio)\n",
    "\n",
    "Its never suggested to keep all your money invested, you must have some risk-free assets as well, so that even if you lose some of your cash in trading, you could still place better bets and regain that lost cash, Thus, We get our third Hyper-parameter: **R**, The Ratio of Total Balance, which we will using for investing.\n",
    "\n",
    "You will not be investing in all the 30 Tickers now, Will you? You will choose the top few stocks, which show the highest promise in terms of Momentum, which brings us to another hyper-parameter: **M**, The Number of Top few stocks (based on Momentum), which you'll keep in your Portfolio.\n",
    "\n",
    "Finally, There's some brokerage fee which you need to pay in order to place orders on the stock market, typically its less than 0.5% of the total amount : **F**\n"
   ]
  },
  {
   "cell_type": "code",
   "execution_count": 1,
   "metadata": {
    "id": "GpkE6S0ZjSlB"
   },
   "outputs": [],
   "source": [
    "#Importing Required Libraries\n",
    "import pandas as pd\n",
    "import numpy as np\n",
    "import datetime\n",
    "import matplotlib.pyplot as plt\n",
    "import seaborn as sns\n",
    "\n",
    "#Declaring the Hyperparameters\n",
    "\n",
    "N = 50\n",
    "T = 7\n",
    "R = 0.8\n",
    "M = 5\n",
    "F = 0.005   # 0.5% Brokerage fee"
   ]
  },
  {
   "cell_type": "markdown",
   "metadata": {
    "id": "DwPazs3-q618"
   },
   "source": [
    "The Second step would be to define a function which reads the Prices of various Stocks into memory.\n",
    "\n",
    "In the file DATA.csv , which we had uploaded in our repository, we have prices of 30 firms enlisted in S & P 500 Index (Apple, IBM, Cisco, Walmart and the like!) from 2nd January 2009 to 17th August 2020.\n",
    "\n",
    "For our purposes, We'll only be requiring certain columns. On an honest note, Just getting the Columns on Ticker, Date and Adjusted Closing Price would do the job, but if you want, you may take Opening Price as well.\n",
    "\n",
    "Read up about the [pandas.read_csv](https://pandas.pydata.org/docs/reference/api/pandas.read_csv.html) function from here, and figure out how you'll use it to do the job (You don't need all the columns!) "
   ]
  },
  {
   "cell_type": "code",
   "execution_count": 2,
   "metadata": {
    "id": "9rsbAPafuUk1"
   },
   "outputs": [],
   "source": [
    "def GetData(NameOfFile):\n",
    "  #START CODE HERE\n",
    "  return pd.read_csv(filepath_or_buffer=NameOfFile, sep=\",\", usecols=[1,2,3]) # pd.DataFrame Object\n"
   ]
  },
  {
   "cell_type": "markdown",
   "metadata": {
    "id": "qkWJ29Kquf2B"
   },
   "source": [
    "To aid Data-Manipulation, it would be beneficial, if we split the DataFrame into many small parts each corresponding to the data corresponding to the 30 Tickers on a particular date. These small parts could then be stored in a list.\n",
    "\n",
    "We would also be needing to remember which date is at what index, so that we can use that later. "
   ]
  },
  {
   "cell_type": "code",
   "execution_count": 3,
   "metadata": {
    "id": "d4HLxmu9HTl8"
   },
   "outputs": [],
   "source": [
    "def PartitionData(Data):\n",
    "  \n",
    "    DateToIndex = {}\n",
    "    ListOfData = []\n",
    "  \n",
    "    for i in range(2926):\n",
    "    \n",
    "        ListOfData.append(Data[30*i:30*(i+1)])\n",
    "        DateToIndex[Data.datadate[30*i]] = i\n",
    "\n",
    "    \n",
    "    return ListOfData, DateToIndex   # List containing of the Data Partitioned according to Date, and the Dictionary mapping Dates to their index in the list "
   ]
  },
  {
   "cell_type": "markdown",
   "metadata": {
    "id": "peRRNuUQOnVM"
   },
   "source": [
    "Now, We need a function to calculate the Momentum value for all of our 30 Tickers.\n",
    "To do this, We need to have a few things in mind:\n",
    "\n",
    "\n",
    "1.   We need to start at Nth day in our list, as only then we'll be able to calculate the Momentum (This will be taken care of by later parts of the Program, when we actually run the Model)\n",
    "\n",
    "2.   The Stock Market isn't open on all days, so we often won't be able to go N days behind, and will have to take the closest value instead(We can't just go N entries behind in the List we created and expect that to work, Why?) In order to work with dates, you should get to know more about the datetime library of Python from [here](https://thispointer.com/python-how-to-convert-datetime-object-to-string-using-datetime-strftime/) (Especially the datetime.strftime() function) and about the [datetime.timedelta()](https://www.studytonight.com/python-howtos/how-to-add-days-to-date-in-python) function.\n",
    "\n",
    "Also, as you may have figured it out yourself, while DataFrames are great for Data Handling and small statistical calculations, They aren't so for big calculations as the Numpy Library has both a richer variety of functions for such manipulations and is also more efficient!\n",
    "\n",
    "After we calculate the Momentum for all our Tickers, it would be a great thing to do, if we could divide their prices by their mean(in the N day interval, as we need to see which stock outperforms others and in order to do this, it won't be fair if we take the absolute growth in numbers!(Why?)\n",
    "\n"
   ]
  },
  {
   "cell_type": "code",
   "execution_count": 4,
   "metadata": {
    "id": "tMKHAcBnSG5n"
   },
   "outputs": [],
   "source": [
    "def GetMomentumBasedPriority(PartitionedDataFrameList, DateToIndex ,today):\n",
    "  # PartitionedDataFrameList : Pandas DataFrame, The Output of your last function\n",
    "  # DateToIndex : Dictionary mapping dates to their index in the PartitionedDataFrameList\n",
    "  # today :  Today's date (string) In Format: YYYYMMDD\n",
    "\n",
    "\n",
    "  #NdaysAgo is a datatime.date() object contining the required data, you need to convert it to a string and then check if its\n",
    "  #actually there in the Data you have or will you have to get going using some other nearest date\n",
    "\n",
    "    NdaysAgo = datetime.date(int(today[0:4]),int(today[4:6]),int(today[6:])) + datetime.timedelta(days = -N)\n",
    "\n",
    "  #START CODE HERE!\n",
    "\n",
    "    NdaysAgoStr = NdaysAgo.strftime(\"%Y%m%d\")\n",
    "  \n",
    "    if NdaysAgoStr not in DateToIndex.keys():\n",
    "    \n",
    "      AbsDif = lambda Day : abs(int(NdaysAgoStr) - Day)\n",
    "      NdaysAgoStr = str(min(DateToIndex.keys(), key = AbsDif))  \n",
    "  \n",
    "    L = []\n",
    "    \n",
    "    for i in range(30):\n",
    "    \n",
    "        sum = 0\n",
    "    \n",
    "        for j in range (DateToIndex[int(NdaysAgoStr)], DateToIndex[int(today)]):\n",
    "        \n",
    "            sum += PartitionedDataFrameList[j].iloc[i].adjcp\n",
    "        \n",
    "        momentum = PartitionedDataFrameList[DateToIndex[int(today)]].iloc[i].adjcp - PartitionedDataFrameList[DateToIndex[int(NdaysAgoStr)]].iloc[i].adjcp\n",
    "        mean = sum/N\n",
    "        \n",
    "        L.append(momentum/mean)\n",
    "\n",
    "    return np.array(L)   #Numpy Array containing the Momentum divided by mean(in the N-day period considered) of all the 30 tickers, in the required order.\n"
   ]
  },
  {
   "cell_type": "markdown",
   "metadata": {
    "id": "s5QOHJ9Ra00l"
   },
   "source": [
    "Even after you have got your Momentum-based priorities, and have decided which stocks to buy and what will be the weight of each, you still need to figure out how much of each will you buy. To do this, first you'll sell all your pre-owned stocks which will increase your cash in hand, then you'll know the stocks to buy and their relative weights (given by their Momentum/mean) and you need a function which tells you how many stocks to buy for each ticker!"
   ]
  },
  {
   "cell_type": "code",
   "execution_count": 6,
   "metadata": {
    "id": "cQg8OWVg_qo5"
   },
   "outputs": [],
   "source": [
    "def GetBalanced(prices, weights, balance):\n",
    "  # prices : Numpy array containing Prices of all the 30 Stocks\n",
    "  # weights : Multi-hot Numpy Array : The Elements corresponding to stocks which are to be bought(Top M Stocks with positive Momentum Indicator) are set to their priority, All other elements are set to zero.\n",
    "  # Returns Numpy array containing the number of shares to buy for each stock!\n",
    "  return (balance/np.sum(weights*prices))*weights\n",
    "\n",
    "   "
   ]
  },
  {
   "cell_type": "markdown",
   "metadata": {
    "id": "WWN9ri-rIb3e"
   },
   "source": [
    "Now, We need something to simulate our [Portfolio](https://www.investopedia.com/terms/p/portfolio.asp). In order to do that we need a class, which has certain  basic features and functionalities.\n",
    "\n",
    "Features : \n",
    "\n",
    "\n",
    "1.   Your Initial Balance\n",
    "2.   Your Current Balance\n",
    "3.   A list(/any other container) storing the number of stocks of each ticker currently in possession. (Numpy Array prefered)\n",
    "4.   Most recent prices of all the stocks (As a Numpy array)\n",
    "\n",
    "Functionalities: \n",
    "\n",
    "\n",
    "\n",
    "1.   Calculating current Net Worth (Balance+Total Evaluation of all Stocks owned!) \n",
    "2.   Buying a Particular Stock (Keep the Transaction fee in mind!)\n",
    "3.   Selling a particular Stock whole (Keep the Transaction Fee in mind!)\n",
    "4.   Rebalance Portfolio  (Takes Numpy array as input)\n",
    "5.   Function to change the value of most recent prices stored (Takes Numpy array as input)\n",
    "\n",
    "\n",
    "\n"
   ]
  },
  {
   "cell_type": "code",
   "execution_count": 8,
   "metadata": {
    "id": "gi60d9qUNO0_"
   },
   "outputs": [],
   "source": [
    "class PortFolio:\n",
    "    def __init__(self, IniBal, NStocks, prices):\n",
    "        self.balance = IniBal\n",
    "        self.NStocks = NStocks\n",
    "        self.prices = prices\n",
    "        \n",
    "    def SellStock(self, index):\n",
    "    #index : The index of the Stock to sell (0-29)\n",
    "        self.balance += (1 - F) * self.NStocks[index] * self.prices[index]\n",
    "        \n",
    "    def BuyStock(self, index, number):\n",
    "    #index : The index of the Stock to buy (0-29) \n",
    "    #number : Number of shares to buy (float)\n",
    "        self.balance -= (1+F) * number * self.prices[index]\n",
    "        \n",
    "    def CalculateNetWorth(self):\n",
    "    #Return Net Worth (All Shares' costs+ Balance)\n",
    "        return self.balance + np.sum(self.NStocks * self.prices)\n",
    "\n",
    "\n",
    "    def ChangePricesTo(self, newPriceVector):\n",
    "    # newPriceVector : Numpy array containing the prices of all the stocks for the current day\n",
    "        self.prices = newPriceVector\n",
    "\n",
    "    def RebalancePortFolio(self, newWeights):  \n",
    "      # newWeights : Numpy array containing Momentum/Mean for all stocks in the N-day period\n",
    "      # First sell all your pre-owned Stock (make sure to take transaction fee into account!)\n",
    "      # This would change your total balance\n",
    "      # Then take the top M(/might be less than M, if >(30-M) had negative Momentum) and send them to the GetBalanced() Function\n",
    "      # Then take that output and pass them to the BuyStocks function!\n",
    "        for i in range(30):\n",
    "            self.SellStock(i)\n",
    "            if newWeights[i] <0:\n",
    "                newWeights[i]=0\n",
    "                \n",
    "        np.put(newWeights, newWeights.argsort()[:30-M], 0)\n",
    "        self.NStocks = GetBalanced(self.prices, newWeights, self.balance)\n",
    "        for i in range(30):\n",
    "            self.BuyStock(i, self.NStocks[i])\n",
    "    \n",
    "\n",
    "\n",
    "\n"
   ]
  },
  {
   "cell_type": "markdown",
   "metadata": {
    "id": "PKiLs-6TB6mU"
   },
   "source": [
    "With that the difficult part is over!\n",
    "\n",
    "Now, all you need to work on is a main loop, which calls all these functions"
   ]
  },
  {
   "cell_type": "code",
   "execution_count": 16,
   "metadata": {
    "id": "zjo2KrcaCmqf"
   },
   "outputs": [
    {
     "name": "stdout",
     "output_type": "stream",
     "text": [
      "[50000.0, 47041.39448564319, 46032.40480083198, 52529.54250239419, 51540.43144228355, 52583.01347358688, 52658.570107618994, 50820.32038204598, 47233.00315692809, 49353.68841949509, 51149.79774102374, 52634.063978642036, 54547.01538688855, 53505.605809992005, 52820.05536007023, 52131.79093347968, 56707.155485836345, 58744.729699778254, 53159.206423485106, 55542.987777797134, 55945.96737265248, 55889.438218485135, 50150.36884181918, 52842.305764893186, 53111.78909118951, 54526.79553554203, 58164.31500281467, 56658.32445740113, 57324.28108409798, 59301.01977552203, 61621.30708979879, 60599.03809104913, 64800.71539546401, 64421.14415201097, 65001.45235648615, 63385.70019552253, 67454.01723847816, 65616.01907993566, 64076.935199535415, 60340.803573443714, 62188.18731795293, 61680.15788901107, 65424.444881575975, 63955.33828983645, 62454.68025344819, 61684.727901650265, 61253.980322937896, 62757.85120233315, 61691.578736809344, 63006.94799857641, 63478.82888813583, 63104.80260630902, 63948.70302274864, 62462.566117938055, 64608.26907284076, 63800.25277865136, 63466.46488338468, 63805.59231520101, 63002.98516550999, 62002.92738876268, 62112.519282401045, 60495.12306217996, 59821.71800206175, 58881.29438871246, 58959.112143398735, 59027.03749870561, 56405.235793220825, 56441.978903419134, 56210.229528703225, 57322.356328322414, 57539.61962303121, 57733.902828582504, 57290.49151176108, 57554.10271920754, 56025.07250975589, 56662.04108477387, 55282.222933924735, 54532.72770249727, 53343.83496464783, 53217.64536209194, 54189.62755582626, 54357.997510144276, 55423.418511750766, 55772.23948614081, 55967.39640583084, 56222.48046107829, 56589.24495863942, 56812.86773507217, 58976.92360085336, 58105.75160228975, 57700.53971907351, 57516.646027376264, 56486.510777859745, 58244.84790429854, 58174.53659235629, 60019.93439921466, 60998.412555765564, 61072.490143839255, 60858.95294384302, 60869.0827395178, 59670.30513055708, 59169.8092226312, 59908.61349906231, 60396.321279259806, 59065.0544539979, 56563.58818901189, 57016.890407494386, 57354.18829538546, 57934.24720378906, 59928.091899344116, 59512.2004133208, 59142.050708325245, 58808.77679688903, 58261.14632779788, 58678.69502020201, 57898.18276741864, 55554.101415855446, 55073.103693487865, 56177.02663597396, 57608.642996575596, 57562.66394887471, 59053.308195768695, 59450.52142134191, 59515.306110499674, 61106.69586118997, 62557.14850445006, 63191.16978391797, 63112.71644192436, 63368.17094792504, 62229.99000806449, 63611.4943485196, 62466.79696714968, 61705.52193021735, 60748.443746904595, 60897.39655740836, 61858.04558391535, 61656.82566670616, 60473.385317297136, 60330.13159121251, 60838.1211907385, 61370.76089955566, 61448.61104178936, 61646.34439310319, 61986.788504081596, 61834.21366877702, 61186.94944889977, 62734.5969996302, 62224.78849727489, 61006.462175778375]\n"
     ]
    }
   ],
   "source": [
    "myPortfolio = PortFolio(50000, np.zeros(30), np.zeros(30))\n",
    "NetWorthAfterEachTrade = []\n",
    "\n",
    "#First Get the Data\n",
    "Data = GetData(\"DATA.csv\")\n",
    "PartitionedData, DateToIndex = PartitionData(Data)\n",
    "\n",
    "#Start processing from the (N+1)th Day(among the ones recorded in the Data)\n",
    "for i in range(N+1, 200):\n",
    "  # Change the Prices to the ith Term\n",
    "    myPortfolio.ChangePricesTo(np.array(PartitionedData[i].adjcp))\n",
    "  # Get NetWorth and store in list\n",
    "    NetWorthAfterEachTrade.append(myPortfolio.CalculateNetWorth())\n",
    "    today = str(PartitionedData[i].iloc[0].at[\"datadate\"])\n",
    "  # Check if you need to rebalance Portfolio's Today\n",
    "  # If so, do it by Calling first the GetMomentumBasedPriority function and then passing it to the rebalance function\n",
    "    if((i-N-1) % T == 0):\n",
    "        myPortfolio.RebalancePortFolio(GetMomentumBasedPriority(PartitionedData, DateToIndex, today))\n",
    "print(NetWorthAfterEachTrade)"
   ]
  },
  {
   "cell_type": "markdown",
   "metadata": {
    "id": "rHB126bDE2Kn"
   },
   "source": [
    "##Moment of Truth\n",
    "\n",
    "Time to check, if your Program actually works!\n",
    "\n",
    "Plot the data you collected in various ways and see if what you did worked!\n",
    "\n",
    "Feel free to use whichever one of Matplotlib or Seaborn you want to.\n",
    "\n",
    "You should try changing the hyper-parameters to increase(/decrease) your performance!\n"
   ]
  },
  {
   "cell_type": "code",
   "execution_count": 17,
   "metadata": {
    "id": "Z3AVQq09FxYm"
   },
   "outputs": [
    {
     "data": {
      "image/png": "[encoded data removed]",
      "text/plain": [
       "<Figure size 432x288 with 1 Axes>"
      ]
     },
     "metadata": {
      "needs_background": "light"
     },
     "output_type": "display_data"
    }
   ],
   "source": [
    "def VizualizeData(networth):\n",
    "    xpoints = np.arange(len(networth))\n",
    "    ypoints = np.array(networth)\n",
    "\n",
    "    plt.plot(xpoints, ypoints)\n",
    "    plt.show()\n",
    "\n",
    "\n",
    "VizualizeData(NetWorthAfterEachTrade)\n",
    "\n",
    "  "
   ]
  },
  {
   "cell_type": "markdown",
   "metadata": {
    "id": "cZoWhY8X9BSR"
   },
   "source": [
    "You may use this cell to write about what results you got!"
   ]
  }
 ],
 "metadata": {
  "colab": {
   "collapsed_sections": [],
   "name": "Momentum.ipynb",
   "provenance": []
  },
  "kernelspec": {
   "display_name": "Python 3",
   "language": "python",
   "name": "python3"
  },
  "language_info": {
   "codemirror_mode": {
    "name": "ipython",
    "version": 3
   },
   "file_extension": ".py",
   "mimetype": "text/x-python",
   "name": "python",
   "nbconvert_exporter": "python",
   "pygments_lexer": "ipython3",
   "version": "3.8.8"
  }
 },
 "nbformat": 4,
 "nbformat_minor": 1
}
